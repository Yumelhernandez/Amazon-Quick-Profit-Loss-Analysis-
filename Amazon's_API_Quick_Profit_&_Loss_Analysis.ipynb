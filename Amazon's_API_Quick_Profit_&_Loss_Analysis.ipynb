{
  "nbformat": 4,
  "nbformat_minor": 0,
  "metadata": {
    "colab": {
      "provenance": []
    },
    "kernelspec": {
      "name": "python3",
      "display_name": "Python 3"
    },
    "language_info": {
      "name": "python"
    }
  },
  "cells": [
    {
      "cell_type": "code",
      "source": [
        "pip install python-amazon-sp-api"
      ],
      "metadata": {
        "id": "LRjobTQl9L1P"
      },
      "execution_count": null,
      "outputs": []
    },
    {
      "cell_type": "code",
      "source": [
        "from sp_api.base import Marketplaces, ReportType\n",
        "from sp_api.api import Orders\n",
        "from sp_api.api import Reports\n",
        "\n",
        "creds = dict(\n",
        "    refresh_token='x',\n",
        "    lwa_app_id='x',\n",
        "    lwa_client_secret='x',\n",
        "    aws_access_key='x',\n",
        "    aws_secret_key='x'\n",
        ") \n",
        "\n"
      ],
      "metadata": {
        "id": "d7KPPhUEFm3a"
      },
      "execution_count": null,
      "outputs": []
    },
    {
      "cell_type": "code",
      "source": [
        "#inventory all listings report to get all ASINs under this account\n",
        "from sp_api.api import Reports\n",
        "import time\n",
        "\n",
        "#code to get the key to download the report\n",
        "report_types = \"GET_MERCHANT_LISTINGS_ALL_DATA\"\n",
        "report = Reports(credentials=creds, marketplace=Marketplaces.US)\n",
        "data = report.create_report(reportType=report_types)\n",
        "report_id = data.payload['reportId'] \n",
        "print(data)\n",
        "print('l\\n')\n",
        "\n",
        "\n",
        "#code to get the report\n",
        "res = Reports(credentials=creds, marketplace=Marketplaces.US)\n",
        "data = res.get_report(report_id)\n",
        "\n",
        "while data.payload['processingStatus'] == \"IN_QUEUE\" or data.payload['processingStatus'] == 'IN_PROGRESS' :\n",
        "  time.sleep(2)\n",
        "  data = res.get_report(report_id)\n",
        "\n",
        "if data.payload['processingStatus'] == \"FATAL\" or data.payload['processingStatus'] == \"CANCELLED\":\n",
        "  print(\"Report failed!\")\n",
        "  report_data = data.payload\n",
        "else:\n",
        "  print(\"Success:\")\n",
        "  report_data = res.get_report_document(data.payload['reportDocumentId'])\n",
        "  report_url = report_data.payload.get('url')\n",
        "  print(report_data.payload)"
      ],
      "metadata": {
        "id": "Lts-8-A2boYz"
      },
      "execution_count": null,
      "outputs": []
    },
    {
      "cell_type": "code",
      "source": [
        "import requests\n",
        "import csv\n",
        "\n",
        "\n",
        "#code to make the data in a more disgesale manner/dictionary\n",
        "url_request = requests.get(report_url)\n",
        "decoded_content = url_request.content.decode('cp1252') #string type\n",
        "reader = csv.DictReader(decoded_content.splitlines(), delimiter='\\t') #csv.DictReader type\n",
        "\n",
        "\n",
        "data_list = []\n",
        "for row in reader:\n",
        "  print(row)\n",
        "  data = {\n",
        "      'item-name': row['item-name'],\n",
        "      'item_description': row['item-description'],\n",
        "      'listing-id': row['listing-id'],\n",
        "      'seller-sku': row['seller-sku'],\n",
        "      'open-date': row['open-date'],\n",
        "      'product-id': row['product-id'] \n",
        "      }\n",
        "  data_list.append(data)"
      ],
      "metadata": {
        "id": "jtSmcgsNiOoZ"
      },
      "execution_count": null,
      "outputs": []
    },
    {
      "cell_type": "code",
      "source": [
        "from datetime import datetime\n",
        "\n",
        "# Starting datetime\n",
        "starting_datetime = datetime(2022,10,1)\n",
        "starting_datetime_iso = starting_datetime.strftime('%Y-%m-%dT%H:%M:%S-05:00')\n",
        "print('Starting Datetime:', starting_datetime)\n",
        "print('Starting Datetime ISO: ', starting_datetime_iso)\n",
        "print(\"\\n\")\n",
        "\n",
        "\n",
        "# Ending datetime\n",
        "ending_datetime = datetime(2023,7,1)\n",
        "ending_datetime_iso = ending_datetime.strftime('%Y-%m-%dT%H:%M:%S-05:00')\n",
        "print('Ending Datetime:', ending_datetime)\n",
        "print('Ending Datetime ISO:', ending_datetime_iso)"
      ],
      "metadata": {
        "id": "nZIXLTXSgQkZ"
      },
      "execution_count": null,
      "outputs": []
    },
    {
      "cell_type": "code",
      "source": [
        "#the below code breaks down month by asin \n",
        "\n",
        "from sp_api.api.sales.sales import Granularity\n",
        "from sp_api.api import Sales\n",
        "from sp_api.base import Granularity\n",
        "import pandas as pd\n",
        "\n",
        "\n",
        "df0 = pd.DataFrame(columns=['ASIN',\"Item Name\", \"Date\", \"Ordered Units\", \"Ordered Revenue\"])\n",
        "\n",
        "\n",
        "count = 0\n",
        "for i in data_list:\n",
        "  product_id = i['product-id']\n",
        "  item_name = i['item-name']\n",
        "  sales = Sales(credentials=creds, marketplace=Marketplaces.US)\n",
        "  sales_request = sales.get_order_metrics(marketplaceIds=\"ATVPDKIKX0DER\", interval=(f\"{starting_datetime_iso}\",f\"{ending_datetime_iso}\"),granularity=Granularity.MONTH, asin=product_id)\n",
        " \n",
        "  z = 0\n",
        "  for x in sales_request.payload:\n",
        "    #print(product_id)\n",
        "    #print(x['interval'])\n",
        "    #print(sales_request.payload[z]['unitCount'])\n",
        "    #print(sales_request.payload[z]['totalSales'][\"amount\"])\n",
        "\n",
        "\n",
        "    #first covnerting a date like 2022-10-01T00:00:00-05:00 into October 2022\n",
        "    iso_date = sales_request.payload[z]['interval'].split('--')[0]\n",
        "    iso_date_to_datetime =datetime.strptime(iso_date,'%Y-%m-%dT%H:%M-05:00')\n",
        "    human_readable_date = iso_date_to_datetime.strftime('%B %Y') \n",
        "\n",
        "    #add data to the tabl\n",
        "    data = {'ASIN': product_id,\n",
        "            'Item Name': item_name,\n",
        "            'Date':human_readable_date, \n",
        "            'Ordered Units':(sales_request.payload[z]['unitCount']), \n",
        "            'Ordered Revenue': (sales_request.payload[z]['totalSales'][\"amount\"])}\n",
        "    df0 = df0.append(data, ignore_index = True)\n",
        "\n",
        "    z = z + 1\n",
        "  count = count + 1\n",
        "\n",
        "#printing how it looks\n",
        "display(df0)\n",
        "\n",
        "#code to reformat it the way customers want it\n",
        "df0_reformatted = df0.pivot(index=['ASIN', \"Item Name\"], columns='Date')['Ordered Revenue']\n",
        "display(df0_reformatted)\n",
        "\n",
        "  \n"
      ],
      "metadata": {
        "id": "7qwenJb67_k3"
      },
      "execution_count": null,
      "outputs": []
    },
    {
      "cell_type": "code",
      "source": [
        "from sp_api.api import Reports\n",
        "import time\n",
        "\n",
        "#code to get the key to download the rreport\n",
        "report_types = \"GET_SALES_AND_TRAFFIC_REPORT\"\n",
        "report = Reports(credentials=creds, marketplace=Marketplaces.US)\n",
        "data = report.create_report(reportType=report_types, dataStartTime='2022-10-01T00:00:00.000Z', dataEndTime =\"2022-12-31T00:00:00.000Z\", reportOptions={\"dateGranularity\":\"MONTH\"})\n",
        "report_id = data.payload['reportId'] #this doesn't work for some reason\n",
        "print(data)\n",
        "print(report_id)\n",
        "print('l\\n')\n",
        "\n",
        "\n",
        "#code to get the report\n",
        "res = Reports(credentials=creds, marketplace=Marketplaces.US)\n",
        "data = res.get_report(report_id)\n",
        "\n",
        "while data.payload['processingStatus'] == \"IN_QUEUE\" or data.payload['processingStatus'] == 'IN_PROGRESS' :\n",
        "  time.sleep(2)\n",
        "  data = res.get_report(report_id)\n",
        "\n",
        "if data.payload['processingStatus'] == \"FATAL\" or data.payload['processingStatus'] == \"CANCELLED\":\n",
        "  print(\"Report failed!\")\n",
        "  report_data = data.payload\n",
        "else:\n",
        "  print(\"Success:\")\n",
        "  report_data = res.get_report_document(data.payload['reportDocumentId'])\n",
        "  report_url = report_data.payload.get('url')\n",
        "  print(report_data.payload)\n"
      ],
      "metadata": {
        "id": "u1XGrIFK9k5W"
      },
      "execution_count": null,
      "outputs": []
    },
    {
      "cell_type": "code",
      "source": [
        "from re import I\n",
        "import requests\n",
        "import csv\n",
        "import json\n",
        "from urllib.request import urlopen\n",
        "import gzip\n",
        "\n",
        "\n",
        "\n",
        "#code to make the data in a more disgesale manner/dictionary\n",
        "url_request = requests.get(report_url)\n",
        "decoded_content = gzip.decompress(url_request.content)\n",
        "content = json.loads(decoded_content)\n",
        "\n",
        "\n",
        "df2 = pd.DataFrame(columns=['Date', \"PageViews\", \"Sessions\", \"Conversion Rate\"])\n",
        "\n",
        "\n",
        "x = 0\n",
        "for i in content['salesAndTrafficByDate']:\n",
        "\n",
        "\n",
        "  #first covnerting a date like 2022-10-01 into October 2022\n",
        "  date = content['salesAndTrafficByDate'][x]['date']\n",
        "  iso_date_to_datetime =datetime.strptime(date,'%Y-%m-%d')\n",
        "  human_readable_date = iso_date_to_datetime.strftime('%B %Y') \n",
        "\n",
        "  data = {'Date':human_readable_date,\n",
        "          'PageViews': (content['salesAndTrafficByDate'][x]['trafficByDate']['pageViews']),\n",
        "          'Sessions': content['salesAndTrafficByDate'][x]['trafficByDate']['sessions'],\n",
        "          'Conversion Rate': content['salesAndTrafficByDate'][x]['trafficByDate']['unitSessionPercentage']\n",
        "          }\n",
        "  df2 = df2.append(data, ignore_index = True)\n",
        "\n",
        "\n",
        "  x = x + 1\n"
      ],
      "metadata": {
        "id": "KOTZ9cwba5he",
        "collapsed": true
      },
      "execution_count": null,
      "outputs": []
    },
    {
      "cell_type": "code",
      "source": [
        "print(df0.dtypes) # somehow Ordered Units is an object\n",
        "display(df0)\n",
        "\n",
        "\n",
        "df0['Ordered Units'] = df0['Ordered Units'].astype(float)\n",
        "df0 = df0.groupby(\"Date\").mean()\n",
        "display(df0)"
      ],
      "metadata": {
        "id": "jj4K4A_xe9fu"
      },
      "execution_count": null,
      "outputs": []
    },
    {
      "cell_type": "code",
      "source": [
        "import pandas as pd\n",
        "from IPython.display import display\n",
        "pd.set_option('float_format', '{:,.1f}'.format)\n",
        "\n",
        "\n",
        "#merging the two datasets\n",
        "df3 = pd.merge(df0,df2,on='Date')\n",
        "#df3.groupby('Date', axis=0)\n",
        "#df3.groupby(pd.Grouper(key='Date', axis=0, freq='M'))\n",
        "\n",
        "\n",
        "\n",
        "#adding MoM metrrics\n",
        "\n",
        "df3['Ordered Revenue MoM'] = (df3['Ordered Revenue'].pct_change()*1)\n",
        "df3['Ordered Revenue MoM'] = [\"{:,.1%}\".format(i) for i in df3['Ordered Revenue MoM']]\n",
        "\n",
        "\n",
        "df3['Ordered Units MoM'] = (df3['Ordered Units'].pct_change()*1)\n",
        "df3['Ordered Units MoM'] = [\"{:,.1%}\".format(i) for i in df3['Ordered Units MoM']]\n",
        "\n",
        "\n",
        "df3['Sessions MoM'] = (df3['Sessions'].pct_change()*1)\n",
        "df3['Sessions MoM'] = [\"{:,.1%}\".format(i) for i in df3['Sessions MoM']]\n",
        "\n",
        "\n",
        "\n",
        "display(df0)\n",
        "display(df2)\n",
        "display(df3)\n"
      ],
      "metadata": {
        "id": "C0R5ibou-hma"
      },
      "execution_count": null,
      "outputs": []
    },
    {
      "cell_type": "code",
      "source": [
        "#export our work\n",
        "from google.colab import files\n",
        "\n",
        "df0_reformatted.to_csv('Monthly_Revenue_By_ASIN.csv', encoding='utf-8')\n",
        "files.download('Monthly_Revenue_By_ASIN.csv')\n",
        "\n",
        "df3.to_csv(r'Monthly_KPIs_Performance.csv', encoding='utf-8')\n",
        "files.download('Monthly_KPIs_Performance.csv')"
      ],
      "metadata": {
        "id": "8D7XHqzhtFCM"
      },
      "execution_count": null,
      "outputs": []
    }
  ]
}